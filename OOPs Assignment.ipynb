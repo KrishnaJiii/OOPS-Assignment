{
 "cells": [
  {
   "cell_type": "markdown",
   "id": "4873d66f-fa4b-444c-b401-00740cdffe93",
   "metadata": {
    "jp-MarkdownHeadingCollapsed": true
   },
   "source": [
    "## Python OOPs Questions"
   ]
  },
  {
   "cell_type": "markdown",
   "id": "44c4691c-fa7c-40b8-9eab-a204bde7eff2",
   "metadata": {},
   "source": [
    "Q1. What is Object-Oriented Programming (OOP)?"
   ]
  },
  {
   "cell_type": "markdown",
   "id": "e7111b79-ac0f-4647-b62d-7741c1f5bcc7",
   "metadata": {},
   "source": [
    "A1. Object-Oriented Programming (OOP) is a way of writing programs using classes and objects. It helps make code organized, reusable, and easy to understand."
   ]
  },
  {
   "cell_type": "markdown",
   "id": "70bd7e88-3826-42bb-8e30-abc4c10770c7",
   "metadata": {},
   "source": [
    "Q2. What is a class in OOP?"
   ]
  },
  {
   "cell_type": "markdown",
   "id": "a1ef8d49-e1ca-4a7d-8795-bbc6881f0215",
   "metadata": {},
   "source": [
    "A2. A class in Object-Oriented Programming (OOP) is like a blueprint or template used to create objects. It defines what data (variables) and actions (methods) the object will have."
   ]
  },
  {
   "cell_type": "markdown",
   "id": "9061b58b-f11f-4d5c-b457-61c40c5e9dde",
   "metadata": {},
   "source": [
    "Q3. What is an object in OOP?"
   ]
  },
  {
   "cell_type": "markdown",
   "id": "80f9015d-60fc-45dd-ba1e-92ee6478203e",
   "metadata": {},
   "source": [
    "A3. An object in OOP is a real-world thing created from a class. It has its own data and can do actions defined in the class.\n",
    "Objects help us use the code written in the class."
   ]
  },
  {
   "cell_type": "markdown",
   "id": "47ede48b-067a-4a38-b3db-6deef9d52455",
   "metadata": {},
   "source": [
    "Q4. What is the difference between abstraction and encapsulation?"
   ]
  },
  {
   "cell_type": "markdown",
   "id": "56fe65fd-776c-4f6a-8165-da9a36b35c85",
   "metadata": {},
   "source": [
    "A4. Abstraction means hiding complex details and showing only the important things.\n",
    "Encapsulation means hiding data inside a class and keeping it safe from outside access."
   ]
  },
  {
   "cell_type": "markdown",
   "id": "cf0ef607-c167-405b-849e-bd1fe143b372",
   "metadata": {},
   "source": [
    "Q5. What are dunder methods in Python?"
   ]
  },
  {
   "cell_type": "markdown",
   "id": "79076548-f838-4998-b5dd-5815a74c51ff",
   "metadata": {},
   "source": [
    "A5. Dunder methods in Python are special methods that start and end with double underscores, like __init__, __str__, __add__, etc.\n",
    "They are also called magic methods and are used to define how objects behave."
   ]
  },
  {
   "cell_type": "markdown",
   "id": "210d2e23-3c19-45e4-8da6-78cb86e40a56",
   "metadata": {},
   "source": [
    "Q6. Explain the concept of inheritance in OOP."
   ]
  },
  {
   "cell_type": "markdown",
   "id": "22e03401-21e9-4f61-8df5-1e53fe29fff9",
   "metadata": {},
   "source": [
    "A6. Inheritance in object-oriented programming means that a class can use the features of another class. The class that gives the features is called the parent class, and the one that receives them is called the child class. This helps in reusing code and makes the program easier to manage."
   ]
  },
  {
   "cell_type": "markdown",
   "id": "bf09bb32-08af-4d76-a77d-c8bacfb06d70",
   "metadata": {},
   "source": [
    "Q7. What is polymorphism in OOP?"
   ]
  },
  {
   "cell_type": "markdown",
   "id": "48d80cbf-c9cb-4c5d-9d79-3d051e9e6ce6",
   "metadata": {},
   "source": [
    "A7. Polymorphism in object-oriented programming means having one function or method that works in different ways. It allows different classes to have methods with the same name but with different behaviors."
   ]
  },
  {
   "cell_type": "markdown",
   "id": "aa657801-c5dc-4c17-a595-2c7dce5169c6",
   "metadata": {},
   "source": [
    "Q8.  How is encapsulation achieved in Python?"
   ]
  },
  {
   "cell_type": "markdown",
   "id": "d2fbdc35-8a0c-47d3-ade2-13f198ff34bb",
   "metadata": {},
   "source": [
    "A8. Encapsulation in Python is achieved by hiding the internal data of a class and allowing access only through methods. This is done by making variables private using double underscores (e.g., __balance). To access or change these private variables, we use getter and setter methods. This helps protect the data from being changed directly and keeps the class safe and secure."
   ]
  },
  {
   "cell_type": "markdown",
   "id": "f04db599-1bcd-4c25-bf29-1629ec3e46a7",
   "metadata": {},
   "source": [
    "Q9. What is a constructor in Python?"
   ]
  },
  {
   "cell_type": "markdown",
   "id": "f48d0011-e34a-4f63-abe5-98b0345c0ee1",
   "metadata": {},
   "source": [
    "A9. A constructor in Python is a special method used to automatically initialize an object when it is created. In Python, the constructor method is called __init__(). It is used to set the initial values of object variables."
   ]
  },
  {
   "cell_type": "markdown",
   "id": "890c37e9-0f22-4732-81ac-a22d4aa9a7f9",
   "metadata": {},
   "source": [
    "Q10. What are class and static methods in Python?"
   ]
  },
  {
   "cell_type": "markdown",
   "id": "d618f5e8-9c18-4e67-973c-72424fc99d43",
   "metadata": {},
   "source": [
    "A10. Class method: A class method is a method that works with the class, not with individual objects. It is defined using the @classmethod decorator and takes cls as the first parameter. It can be used to access or change class-level variables.\n",
    "Static method: A static method is a method that does not need object or class data. It is defined using the @staticmethod decorator and has no self or cls parameter. It behaves like a normal function placed inside a class and is used for helper or utility functions."
   ]
  },
  {
   "cell_type": "markdown",
   "id": "3919fe6b-6602-4328-970c-a740366554ba",
   "metadata": {},
   "source": [
    "Q11. What is method overloading in Python?"
   ]
  },
  {
   "cell_type": "markdown",
   "id": "1c7ca238-4eba-48de-8352-408b4f0b5fab",
   "metadata": {},
   "source": [
    "A11. Method overloading means having multiple methods with the same name but with different numbers or types of arguments. In many languages, it is supported directly, but in Python, method overloading is not supported traditionally. If you define a method more than once, the last one replaces the earlier ones."
   ]
  },
  {
   "cell_type": "markdown",
   "id": "109e3abe-2039-4d4b-9b78-95b638cd86f6",
   "metadata": {},
   "source": [
    "Q12. What is method overriding in OOP?"
   ]
  },
  {
   "cell_type": "markdown",
   "id": "3b5b61df-3f85-4cc8-9bed-b4fa5eec438f",
   "metadata": {},
   "source": [
    "A12. Method overriding in Object-Oriented Programming (OOP) is when a child class provides a new definition for a method that is already defined in its parent class. The child class replaces the parent’s method with its own version. This allows the child class to change or extend the behavior of the parent class method. The method in the child class must have the same name and parameters as the one in the parent class."
   ]
  },
  {
   "cell_type": "markdown",
   "id": "7fce9c74-293a-41e3-8727-3cccbad57c9a",
   "metadata": {},
   "source": [
    "Q13. What is a property decorator in Python?"
   ]
  },
  {
   "cell_type": "markdown",
   "id": "f8f864b9-b178-429e-b9a6-867930fa34ab",
   "metadata": {},
   "source": [
    "A13. The property decorator in Python is used to define a method as an attribute. It allows you to create getter, setter, and deleter methods for class attributes without directly accessing them. This makes the code more readable and allows additional logic when getting or setting the value of an attribute. "
   ]
  },
  {
   "cell_type": "markdown",
   "id": "4361a60b-88ea-447a-9f7b-b7a1534c89f9",
   "metadata": {},
   "source": [
    "Q14. Why is polymorphism important in OOP?"
   ]
  },
  {
   "cell_type": "markdown",
   "id": "655067d3-5357-4d8d-9ba5-826396d25366",
   "metadata": {},
   "source": [
    "A14. Polymorphism is important in Object-Oriented Programming (OOP) because it allows one function or method to work with different types of objects. It makes the code more flexible and extensible by allowing new classes to use existing methods without changing the code. With polymorphism, you can write generic code that works with many types, making it easier to manage and extend. "
   ]
  },
  {
   "cell_type": "markdown",
   "id": "b62ca839-6e9b-42ad-ab69-db9d15890da9",
   "metadata": {},
   "source": [
    "Q15. What is an abstract class in Python?"
   ]
  },
  {
   "cell_type": "markdown",
   "id": "9e944ba0-ff90-45a8-8a07-107c63c6cd88",
   "metadata": {},
   "source": [
    "A15. An abstract class in Python is a class that cannot be instantiated directly. It is used to define a blueprint for other classes. Abstract classes can have abstract methods, which are methods that are declared but do not have an implementation in the abstract class. Subclasses that inherit from an abstract class must implement these abstract methods. The abc module is used to define abstract classes in Python."
   ]
  },
  {
   "cell_type": "markdown",
   "id": "429e7ed9-02c0-4549-9647-ac21a9f56043",
   "metadata": {},
   "source": [
    "Q16. What are the advantages of OOP?"
   ]
  },
  {
   "cell_type": "markdown",
   "id": "f1e40776-361b-4b84-810e-1d66d7d62d38",
   "metadata": {},
   "source": [
    "A16. Object-Oriented Programming (OOP) has several advantages. It promotes code reusability by allowing classes to be reused in different parts of a program or in other programs through inheritance. OOP also helps in organizing code by grouping related data and functions into objects, making the code more modular and easier to maintain. Additionally, OOP encourages encapsulation, which hides the internal details of objects and protects data, and polymorphism, which allows different classes to use the same method name but with different behaviors, making the code more flexible."
   ]
  },
  {
   "cell_type": "markdown",
   "id": "64cbb04f-f04a-4a35-a666-0ef3c83d3374",
   "metadata": {},
   "source": [
    "Q17 What is the difference between a class variable and an instance variable?"
   ]
  },
  {
   "cell_type": "markdown",
   "id": "d2d31eb7-191f-4663-afbb-af0d7ab7cad6",
   "metadata": {},
   "source": [
    "A17. A class variable is a variable that is shared by all instances of a class. It is defined inside the class but outside any methods. All objects of the class have access to the same value of the class variable. \n",
    "An instance variable, on the other hand, is unique to each object. It is defined inside the __init__() method and can have different values for each instance of the class."
   ]
  },
  {
   "cell_type": "markdown",
   "id": "d72be8c5-b6fe-446c-be97-bad6b4fff8b1",
   "metadata": {},
   "source": [
    "Q18. What is multiple inheritance in Python?"
   ]
  },
  {
   "cell_type": "markdown",
   "id": "0b7564bf-e8c2-4de7-b678-e7b88e8b20b2",
   "metadata": {},
   "source": [
    "A18. Multiple inheritance in Python occurs when a child class inherits from more than one parent class. This allows the child class to inherit attributes and methods from multiple classes. Python supports multiple inheritance, making it possible to combine features of different classes into one."
   ]
  },
  {
   "cell_type": "markdown",
   "id": "3ad60776-b41e-4950-a082-7b99a049dd96",
   "metadata": {},
   "source": [
    "Q19. Explain the purpose of ‘’__str__’ and ‘__repr__’ ‘ methods in Python."
   ]
  },
  {
   "cell_type": "markdown",
   "id": "8e2b2a61-6ea1-4443-a36d-73adcf49f78d",
   "metadata": {},
   "source": [
    "A19. The __str__ and __repr__ methods in Python are used to define how an object is represented as a string. The __str__ method is used for creating a user-friendly or informal string representation of an object, often used by the print() function. On the other hand, __repr__ is used to create a formal or debugging-friendly string representation that can ideally be used to recreate the object. If __str__ is not defined, Python will use __repr__."
   ]
  },
  {
   "cell_type": "markdown",
   "id": "3fdbb264-29ff-43c4-b24c-15f13e637746",
   "metadata": {},
   "source": [
    "Q20. What is the significance of the ‘super()’ function in Python?"
   ]
  },
  {
   "cell_type": "markdown",
   "id": "e4443e1c-d115-4c4a-827f-89059388d89f",
   "metadata": {},
   "source": [
    "A20. The super() function in Python is used to call methods from a parent class inside a child class. It is commonly used in inheritance to access the parent class’s __init__() method or any other method. This helps in reusing the code of the parent class without rewriting it. Using super() also ensures that the method resolution order (MRO) is followed correctly, especially in multiple inheritance."
   ]
  },
  {
   "cell_type": "markdown",
   "id": "16c211e9-7750-4cd3-8928-4e7c6614c879",
   "metadata": {},
   "source": [
    "Q21.  What is the significance of the __del__ method in Python?"
   ]
  },
  {
   "cell_type": "markdown",
   "id": "f25431f9-0e7f-479c-b93b-6ba66290519a",
   "metadata": {},
   "source": [
    "A21. The __del__ method in Python is a special (dunder) method called a destructor. It is automatically called when an object is about to be deleted or destroyed, usually when it goes out of scope or the program ends. The main purpose of __del__ is to clean up resources, such as closing files or network connections, before the object is removed from memory. "
   ]
  },
  {
   "cell_type": "markdown",
   "id": "f14e50df-eb90-4dcd-b31e-303f2d66a5e4",
   "metadata": {},
   "source": [
    "Q22. What is the difference between @staticmethod and @classmethod in Python?"
   ]
  },
  {
   "cell_type": "markdown",
   "id": "3e086ac3-05f3-4652-8d08-a22b6d8257ac",
   "metadata": {},
   "source": [
    "A22. In Python, the @staticmethod decorator defines a method that does not need access to the class or instance. It behaves like a regular function but is placed inside a class for logical grouping. It does not take self or cls as a parameter. On the other hand, the @classmethod decorator defines a method that works with the class and takes cls as the first parameter. It can access or modify class-level variables. Both can be called using the class name or object, but they serve different purposes."
   ]
  },
  {
   "cell_type": "markdown",
   "id": "5bbc429c-3094-49ef-859d-f7d49bbb3f3c",
   "metadata": {},
   "source": [
    "Q23. How does polymorphism work in Python with inheritance?"
   ]
  },
  {
   "cell_type": "markdown",
   "id": "f1c32164-9d19-4889-832c-59c35ea45abc",
   "metadata": {},
   "source": [
    "A23. In Python, polymorphism with inheritance means that a child class can override a method from the parent class, and when we call that method using an object, the correct version runs automatically based on the object's class. This allows the same method name to behave differently for different classes.\n",
    "Ex:if both Dog and Cat inherit from Animal and override the speak() method, calling speak() on a Dog object will bark, and on a Cat object will meow — even if we use a common reference like animal.speak()."
   ]
  },
  {
   "cell_type": "markdown",
   "id": "67b527d6-7494-426f-8073-f1338872517e",
   "metadata": {},
   "source": [
    "Q24. What is method chaining in Python OOP?"
   ]
  },
  {
   "cell_type": "markdown",
   "id": "f6de91d2-7b21-4f58-acd5-e1fa6ce38f60",
   "metadata": {},
   "source": [
    "A24. Method chaining in Python OOP is a technique where multiple methods are called on the same object in a single line, one after another. This is possible when each method returns the object itself (self), allowing the next method to be called immediately. It makes the code shorter and cleaner."
   ]
  },
  {
   "cell_type": "markdown",
   "id": "dd223a40-67b2-4407-8f37-38ebfa55a09c",
   "metadata": {},
   "source": [
    "Q25. What is the purpose of the __call__ method in Python?"
   ]
  },
  {
   "cell_type": "markdown",
   "id": "3c0654a2-c700-401e-b24a-8225fcb44e4a",
   "metadata": {},
   "source": [
    "A25. The __call__ method in Python is a special method that allows an object to be called like a function. When a class defines the __call__ method, its objects can be used with parentheses, just like calling a function. This can be useful when you want to make objects that behave like functions or for custom behavior when the object is \"called.\" It’s commonly used in advanced programming like decorators or callable classes."
   ]
  },
  {
   "cell_type": "markdown",
   "id": "1ea0345b-e80d-4e25-8ffd-6c5bfff7a476",
   "metadata": {},
   "source": [
    "## Practical Questions"
   ]
  },
  {
   "cell_type": "code",
   "execution_count": 2,
   "id": "0cdca8e8-4620-41f0-9af7-4a474931078a",
   "metadata": {},
   "outputs": [
    {
     "name": "stdout",
     "output_type": "stream",
     "text": [
      "The animal sound.\n",
      "Bark!\n"
     ]
    }
   ],
   "source": [
    "# Q1. Create a parent class Animal with a method speak() that prints a generic message. Create a child class Dog that \n",
    "# overrides the speak() method to print \"Bark!\".\n",
    "\n",
    "class Animal:\n",
    "    def speak(self):\n",
    "        print(\"The animal sound.\")\n",
    "\n",
    "class Dog(Animal):\n",
    "    def speak(self):\n",
    "        print(\"Bark!\")\n",
    "\n",
    "a = Animal()\n",
    "d = Dog()\n",
    "\n",
    "a.speak()  \n",
    "d.speak()"
   ]
  },
  {
   "cell_type": "code",
   "execution_count": 3,
   "id": "45b018fa-7be9-4a74-9599-e092db7ce545",
   "metadata": {},
   "outputs": [
    {
     "name": "stdout",
     "output_type": "stream",
     "text": [
      "Area of Circle: 78.53981633974483\n",
      "Area of Rectangle: 24\n"
     ]
    }
   ],
   "source": [
    "# Q2. Write a program to create an abstract class Shape with a method area(). Derive classes Circle and Rectangle from it\n",
    "# and implement the area() method in both.\n",
    "\n",
    "from abc import ABC, abstractmethod\n",
    "import math\n",
    "\n",
    "class Shape(ABC):\n",
    "    @abstractmethod\n",
    "    def area(self):\n",
    "        pass\n",
    "\n",
    "class Circle(Shape):\n",
    "    def __init__(self, radius):\n",
    "        self.radius = radius\n",
    "\n",
    "    def area(self):\n",
    "        return math.pi * self.radius ** 2\n",
    "\n",
    "class Rectangle(Shape):\n",
    "    def __init__(self, length, width):\n",
    "        self.length = length\n",
    "        self.width = width\n",
    "\n",
    "    def area(self):\n",
    "        return self.length * self.width\n",
    "\n",
    "circle = Circle(5)\n",
    "rectangle = Rectangle(4, 6)\n",
    "\n",
    "print(\"Area of Circle:\", circle.area())\n",
    "print(\"Area of Rectangle:\", rectangle.area())"
   ]
  },
  {
   "cell_type": "code",
   "execution_count": 5,
   "id": "61699def-b7d9-4088-97bd-cd6e4adb58fd",
   "metadata": {},
   "outputs": [
    {
     "name": "stdout",
     "output_type": "stream",
     "text": [
      "Type: Electric\n",
      "Brand: TATA\n",
      "Battery: 75 kWh\n"
     ]
    }
   ],
   "source": [
    "# Q3. mplement a multi-level inheritance scenario where a class Vehicle has an attribute type. Derive a class Car and\n",
    "# further derive a class ElectricCar that adds a battery attribute.\n",
    "\n",
    "class Vehicle:\n",
    "    def __init__(self, vehicle_type):\n",
    "        self.type = vehicle_type\n",
    "\n",
    "class Car(Vehicle):\n",
    "    def __init__(self, vehicle_type, brand):\n",
    "        super().__init__(vehicle_type)\n",
    "        self.brand = brand\n",
    "\n",
    "class ElectricCar(Car):\n",
    "    def __init__(self, vehicle_type, brand, battery):\n",
    "        super().__init__(vehicle_type, brand)\n",
    "        self.battery = battery\n",
    "\n",
    "    def display_info(self):\n",
    "        print(f\"Type: {self.type}\")\n",
    "        print(f\"Brand: {self.brand}\")\n",
    "        print(f\"Battery: {self.battery} kWh\")\n",
    "\n",
    "e_car = ElectricCar(\"Electric\", \"TATA\", 75)\n",
    "e_car.display_info()"
   ]
  },
  {
   "cell_type": "code",
   "execution_count": 6,
   "id": "bdc15356-f7f6-4119-984c-02716be3d238",
   "metadata": {},
   "outputs": [
    {
     "name": "stdout",
     "output_type": "stream",
     "text": [
      "Sparrow flies high in the sky.\n",
      "Penguins cannot fly, they swim.\n"
     ]
    }
   ],
   "source": [
    "# Q4. Demonstrate polymorphism by creating a base class Bird with a method fly(). Create two derived classes Sparrow and\n",
    "# Penguin that override the fly() method.\n",
    "\n",
    "class Bird:\n",
    "    def fly(self):\n",
    "        print(\"Some birds can fly.\")\n",
    "\n",
    "class Sparrow(Bird):\n",
    "    def fly(self):\n",
    "        print(\"Sparrow flies high in the sky.\")\n",
    "\n",
    "class Penguin(Bird):\n",
    "    def fly(self):\n",
    "        print(\"Penguins cannot fly, they swim.\")\n",
    "\n",
    "def show_flying_ability(bird):\n",
    "    bird.fly()\n",
    "\n",
    "sparrow = Sparrow()\n",
    "penguin = Penguin()\n",
    "\n",
    "show_flying_ability(sparrow)  \n",
    "show_flying_ability(penguin)  "
   ]
  },
  {
   "cell_type": "code",
   "execution_count": 7,
   "id": "66da8c86-305d-4145-8401-6e7f243246da",
   "metadata": {},
   "outputs": [
    {
     "name": "stdout",
     "output_type": "stream",
     "text": [
      "Current balance: 1000\n",
      "Deposited: 500\n",
      "Withdrew: 300\n",
      "Current balance: 1200\n"
     ]
    }
   ],
   "source": [
    "# Q5. Write a program to demonstrate encapsulation by creating a class BankAccount with private attributes balance and\n",
    "# methods to deposit, withdraw, and check balance.\n",
    "\n",
    "class BankAccount:\n",
    "    def __init__(self, initial_balance=0):\n",
    "        self.__balance = initial_balance  \n",
    "\n",
    "    def deposit(self, amount):\n",
    "        if amount > 0:\n",
    "            self.__balance += amount\n",
    "            print(f\"Deposited: {amount}\")\n",
    "        else:\n",
    "            print(\"Deposit amount should be positive.\")\n",
    "\n",
    "    def withdraw(self, amount):\n",
    "        if 0 < amount <= self.__balance:\n",
    "            self.__balance -= amount\n",
    "            print(f\"Withdrew: {amount}\")\n",
    "        else:\n",
    "            print(\"Insufficient funds or invalid amount.\")\n",
    "\n",
    "    def check_balance(self):\n",
    "        print(f\"Current balance: {self.__balance}\")\n",
    "\n",
    "account = BankAccount(1000)\n",
    "\n",
    "account.check_balance()  \n",
    "account.deposit(500)     \n",
    "account.withdraw(300)    \n",
    "account.check_balance()  "
   ]
  },
  {
   "cell_type": "code",
   "execution_count": 8,
   "id": "dc298337-cc6c-441b-9452-f1c583a8470d",
   "metadata": {},
   "outputs": [
    {
     "name": "stdout",
     "output_type": "stream",
     "text": [
      "Strumming the guitar.\n",
      "Playing the piano keys.\n"
     ]
    }
   ],
   "source": [
    "# Q6. Demonstrate runtime polymorphism using a method play() in a base class Instrument. Derive classes Guitar and Piano\n",
    "# that implement their own version of play().\n",
    "\n",
    "class Instrument:\n",
    "    def play(self):\n",
    "        print(\"The instrument is being played.\")\n",
    "\n",
    "class Guitar(Instrument):\n",
    "    def play(self):\n",
    "        print(\"Strumming the guitar.\")\n",
    "\n",
    "class Piano(Instrument):\n",
    "    def play(self):\n",
    "        print(\"Playing the piano keys.\")\n",
    "\n",
    "def perform_play(instrument):\n",
    "    instrument.play()\n",
    "\n",
    "guitar = Guitar()\n",
    "piano = Piano()\n",
    "\n",
    "perform_play(guitar)  \n",
    "perform_play(piano)  "
   ]
  },
  {
   "cell_type": "code",
   "execution_count": 9,
   "id": "e883b786-0f50-4801-a37e-3c807f9c9b20",
   "metadata": {},
   "outputs": [
    {
     "name": "stdout",
     "output_type": "stream",
     "text": [
      "Sum: 15\n",
      "Difference: 5\n"
     ]
    }
   ],
   "source": [
    "# Q7.  Create a class MathOperations with a class method add_numbers() to add two numbers and a static method\n",
    "# subtract_numbers() to subtract two numbers.\n",
    "\n",
    "class MathOperations:\n",
    "    @classmethod\n",
    "    def add_numbers(cls, num1, num2):\n",
    "        return num1 + num2\n",
    "\n",
    "    @staticmethod\n",
    "    def subtract_numbers(num1, num2):\n",
    "        return num1 - num2\n",
    "\n",
    "sum_result = MathOperations.add_numbers(10, 5)\n",
    "print(f\"Sum: {sum_result}\")  \n",
    "\n",
    "difference_result = MathOperations.subtract_numbers(10, 5)\n",
    "print(f\"Difference: {difference_result}\")"
   ]
  },
  {
   "cell_type": "code",
   "execution_count": 10,
   "id": "f97d7158-98a2-48a4-9f68-4b2480860f75",
   "metadata": {},
   "outputs": [
    {
     "name": "stdout",
     "output_type": "stream",
     "text": [
      "Total number of persons: 3\n"
     ]
    }
   ],
   "source": [
    "# Q8.  Implement a class Person with a class method to count the total number of persons created.\n",
    "\n",
    "class Person:\n",
    "    total_persons = 0\n",
    "    \n",
    "    def __init__(self, name, age):\n",
    "        self.name = name\n",
    "        self.age = age\n",
    "        Person.total_persons += 1\n",
    "\n",
    "    @classmethod\n",
    "    def count_persons(cls):\n",
    "        return cls.total_persons\n",
    "\n",
    "person1 = Person(\"Alice\", 30)\n",
    "person2 = Person(\"Bob\", 25)\n",
    "person3 = Person(\"Charlie\", 35)\n",
    "\n",
    "print(f\"Total number of persons: {Person.count_persons()}\")  "
   ]
  },
  {
   "cell_type": "code",
   "execution_count": 12,
   "id": "883e9e7f-66d3-4960-952c-e103201798d1",
   "metadata": {},
   "outputs": [
    {
     "name": "stdout",
     "output_type": "stream",
     "text": [
      "6/9\n"
     ]
    }
   ],
   "source": [
    "# Q9.  Write a class Fraction with attributes numerator and denominator. Override the str method to display thefraction as\n",
    "# \"numerator/denominator\".\n",
    "\n",
    "class Fraction:\n",
    "    def __init__(self, numerator, denominator):\n",
    "        self.numerator = numerator\n",
    "        self.denominator = denominator\n",
    "\n",
    "    def __str__(self):\n",
    "        return f\"{self.numerator}/{self.denominator}\"\n",
    "\n",
    "fraction = Fraction(6, 9)\n",
    "\n",
    "print(fraction)"
   ]
  },
  {
   "cell_type": "code",
   "execution_count": 13,
   "id": "be60ab36-6a78-47d0-b896-0103c25050ca",
   "metadata": {},
   "outputs": [
    {
     "name": "stdout",
     "output_type": "stream",
     "text": [
      "Result of adding vectors: (4, 6)\n"
     ]
    }
   ],
   "source": [
    "# Q10. Demonstrate operator overloading by creating a class Vector and overriding the add method to add two vectors.\n",
    "\n",
    "class Vector:\n",
    "    def __init__(self, x, y):\n",
    "        self.x = x\n",
    "        self.y = y\n",
    "\n",
    "    def __add__(self, other):\n",
    "        return Vector(self.x + other.x, self.y + other.y)\n",
    "\n",
    "    def __str__(self):\n",
    "        return f\"({self.x}, {self.y})\"\n",
    "\n",
    "vector1 = Vector(1, 2)\n",
    "vector2 = Vector(3, 4)\n",
    "\n",
    "result = vector1 + vector2\n",
    "\n",
    "print(f\"Result of adding vectors: {result}\")  "
   ]
  },
  {
   "cell_type": "code",
   "execution_count": 15,
   "id": "aa42c815-820d-42b1-991f-6c5b7e467c24",
   "metadata": {},
   "outputs": [
    {
     "name": "stdout",
     "output_type": "stream",
     "text": [
      "Hello, my name is Krishna and I am 20 years old.\n"
     ]
    }
   ],
   "source": [
    "# Q11.  Create a class Person with attributes name and age. Add a method greet() that prints \"Hello, my name is {name} and\n",
    "# I am {age} years old.\"\n",
    "\n",
    "class Person:\n",
    "    def __init__(self, name, age):\n",
    "        self.name = name\n",
    "        self.age = age\n",
    "\n",
    "    def greet(self):\n",
    "        print(f\"Hello, my name is {self.name} and I am {self.age} years old.\")\n",
    "\n",
    "person1 = Person(\"Krishna\", 20)\n",
    "\n",
    "person1.greet()  "
   ]
  },
  {
   "cell_type": "code",
   "execution_count": 16,
   "id": "a74b0565-3c8a-4858-9a22-fc8efb0b9dbd",
   "metadata": {},
   "outputs": [
    {
     "name": "stdout",
     "output_type": "stream",
     "text": [
      "Krishna's average grade is: 86.25\n"
     ]
    }
   ],
   "source": [
    "# Q12. Implement a class Student with attributes name and grades. Create a method average_grade() to compute the average of\n",
    "# the grades.\n",
    "\n",
    "class Student:\n",
    "    def __init__(self, name, grades):\n",
    "        self.name = name\n",
    "        self.grades = grades\n",
    "\n",
    "    def average_grade(self):\n",
    "        return sum(self.grades) / len(self.grades) if self.grades else 0\n",
    "\n",
    "student1 = Student(\"Krishna\", [85, 90, 78, 92])\n",
    "\n",
    "average = student1.average_grade()\n",
    "\n",
    "print(f\"{student1.name}'s average grade is: {average}\") "
   ]
  },
  {
   "cell_type": "code",
   "execution_count": 17,
   "id": "061d0d0f-43c1-4b91-a559-d7df6f0b894b",
   "metadata": {},
   "outputs": [
    {
     "name": "stdout",
     "output_type": "stream",
     "text": [
      "The area of the rectangle is: 15\n"
     ]
    }
   ],
   "source": [
    "# Q13.  Create a class Rectangle with methods set_dimensions() to set the dimensions and area() to calculate the area.\n",
    "\n",
    "class Rectangle:\n",
    "    def __init__(self):\n",
    "        self.length = 0\n",
    "        self.width = 0\n",
    "\n",
    "    def set_dimensions(self, length, width):\n",
    "        self.length = length\n",
    "        self.width = width\n",
    "\n",
    "    def area(self):\n",
    "        return self.length * self.width\n",
    "\n",
    "rectangle = Rectangle()\n",
    "\n",
    "rectangle.set_dimensions(5, 3)\n",
    "\n",
    "area = rectangle.area()\n",
    "\n",
    "print(f\"The area of the rectangle is: {area}\")  #"
   ]
  },
  {
   "cell_type": "code",
   "execution_count": 18,
   "id": "ae206336-d2f4-4641-8cc7-81be6c1792fe",
   "metadata": {},
   "outputs": [
    {
     "name": "stdout",
     "output_type": "stream",
     "text": [
      "Employee Salary: 1000\n",
      "Manager Salary: 1700\n"
     ]
    }
   ],
   "source": [
    "# Q14. Create a class Employee with a method calculate_salary() that computes the salary based on hours worked and hourly \n",
    "# rate. Create a derived class Manager that adds a bonus to the salary.\n",
    "\n",
    "class Employee:\n",
    "    def __init__(self, name, hours_worked, hourly_rate):\n",
    "        self.name = name\n",
    "        self.hours_worked = hours_worked\n",
    "        self.hourly_rate = hourly_rate\n",
    "\n",
    "    def calculate_salary(self):\n",
    "        return self.hours_worked * self.hourly_rate\n",
    "\n",
    "class Manager(Employee):\n",
    "    def __init__(self, name, hours_worked, hourly_rate, bonus):\n",
    "        super().__init__(name, hours_worked, hourly_rate)\n",
    "        self.bonus = bonus\n",
    "\n",
    "    def calculate_salary(self):\n",
    "        base_salary = super().calculate_salary()\n",
    "        return base_salary + self.bonus\n",
    "\n",
    "employee = Employee(\"Alice\", 40, 25)\n",
    "print(f\"Employee Salary: {employee.calculate_salary()}\")  \n",
    "\n",
    "manager = Manager(\"Bob\", 40, 30, 500)\n",
    "print(f\"Manager Salary: {manager.calculate_salary()}\")  "
   ]
  },
  {
   "cell_type": "code",
   "execution_count": 19,
   "id": "72b35925-aad9-4072-ac48-bc09039a6426",
   "metadata": {},
   "outputs": [
    {
     "name": "stdout",
     "output_type": "stream",
     "text": [
      "The total price of Laptop is: 100000\n"
     ]
    }
   ],
   "source": [
    "# Q15. Create a class Product with attributes name, price, and quantity. Implement a method total_price() that calculates\n",
    "# the total price of the product.\n",
    "\n",
    "class Product:\n",
    "    def __init__(self, name, price, quantity):\n",
    "        self.name = name\n",
    "        self.price = price\n",
    "        self.quantity = quantity\n",
    "\n",
    "    def total_price(self):\n",
    "        return self.price * self.quantity\n",
    "\n",
    "product = Product(\"Laptop\", 50000, 2)\n",
    "\n",
    "total = product.total_price()\n",
    "\n",
    "print(f\"The total price of {product.name} is: {total}\")  "
   ]
  },
  {
   "cell_type": "code",
   "execution_count": 20,
   "id": "f47a9e7e-2bf7-45d6-b24e-d7ab4a04c572",
   "metadata": {},
   "outputs": [
    {
     "name": "stdout",
     "output_type": "stream",
     "text": [
      "Moo\n",
      "Baa\n"
     ]
    }
   ],
   "source": [
    "# Q16. Create a class Animal with an abstract method sound(). Create two derived classes Cow and Sheep that implement the\n",
    "# sound() method.\n",
    "\n",
    "from abc import ABC, abstractmethod\n",
    "\n",
    "class Animal(ABC):\n",
    "    @abstractmethod\n",
    "    def sound(self):\n",
    "        pass\n",
    "\n",
    "class Cow(Animal):\n",
    "    def sound(self):\n",
    "        print(\"Moo\")\n",
    "\n",
    "class Sheep(Animal):\n",
    "    def sound(self):\n",
    "        print(\"Baa\")\n",
    "\n",
    "cow = Cow()\n",
    "sheep = Sheep()\n",
    "\n",
    "cow.sound() \n",
    "sheep.sound() "
   ]
  },
  {
   "cell_type": "code",
   "execution_count": 21,
   "id": "caf1099a-2f4f-4f7e-a90f-15dd6b73e892",
   "metadata": {},
   "outputs": [
    {
     "name": "stdout",
     "output_type": "stream",
     "text": [
      "'1984' by George Orwell, published in 1949\n"
     ]
    }
   ],
   "source": [
    "# Q17.  Create a class Book with attributes title, author, and year_published. Add a method get_book_info() that returns a\n",
    "# formatted string with the book's details.\n",
    "\n",
    "class Book:\n",
    "    def __init__(self, title, author, year_published):\n",
    "        self.title = title\n",
    "        self.author = author\n",
    "        self.year_published = year_published\n",
    "\n",
    "    def get_book_info(self):\n",
    "        return f\"'{self.title}' by {self.author}, published in {self.year_published}\"\n",
    "\n",
    "book1 = Book(\"1984\", \"George Orwell\", 1949)\n",
    "\n",
    "book_info = book1.get_book_info()\n",
    "\n",
    "print(book_info)  "
   ]
  },
  {
   "cell_type": "code",
   "execution_count": 23,
   "id": "3f69e930-74dc-4e01-81ea-cf0820fc0251",
   "metadata": {},
   "outputs": [
    {
     "name": "stdout",
     "output_type": "stream",
     "text": [
      "Address: 123 Ram Nagar, Price: $250000\n",
      "Address: 456 Oak Bhavan, Price: $5000000, Number of Rooms: 10\n"
     ]
    }
   ],
   "source": [
    "# Q18. Create a class House with attributes address and price. Create a derived class Mansion that adds an attribute \n",
    "# number_of_rooms.\n",
    "\n",
    "class House:\n",
    "    def __init__(self, address, price):\n",
    "        self.address = address\n",
    "        self.price = price\n",
    "\n",
    "    def get_details(self):\n",
    "        return f\"Address: {self.address}, Price: ${self.price}\"\n",
    "\n",
    "class Mansion(House):\n",
    "    def __init__(self, address, price, number_of_rooms):\n",
    "        super().__init__(address, price)\n",
    "        self.number_of_rooms = number_of_rooms\n",
    "\n",
    "    def get_mansion_details(self):\n",
    "        return f\"{self.get_details()}, Number of Rooms: {self.number_of_rooms}\"\n",
    "\n",
    "house = House(\"123 Ram Nagar\", 250000)\n",
    "print(house.get_details())  \n",
    "\n",
    "mansion = Mansion(\"456 Oak Bhavan\", 5000000, 10)\n",
    "print(mansion.get_mansion_details())  "
   ]
  }
 ],
 "metadata": {
  "kernelspec": {
   "display_name": "Python 3 (ipykernel)",
   "language": "python",
   "name": "python3"
  },
  "language_info": {
   "codemirror_mode": {
    "name": "ipython",
    "version": 3
   },
   "file_extension": ".py",
   "mimetype": "text/x-python",
   "name": "python",
   "nbconvert_exporter": "python",
   "pygments_lexer": "ipython3",
   "version": "3.12.7"
  }
 },
 "nbformat": 4,
 "nbformat_minor": 5
}
